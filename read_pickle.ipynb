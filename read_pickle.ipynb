{
 "cells": [
  {
   "cell_type": "code",
   "execution_count": 1,
   "metadata": {},
   "outputs": [],
   "source": [
    "import pandas as pd\n",
    "import pickle"
   ]
  },
  {
   "cell_type": "code",
   "execution_count": 2,
   "metadata": {},
   "outputs": [],
   "source": [
    "# Read data\n",
    "df_temp = pd.read_csv('data/df_test_altair_viz.csv')"
   ]
  },
  {
   "cell_type": "code",
   "execution_count": 3,
   "metadata": {},
   "outputs": [],
   "source": [
    "# Read data\n",
    "df_train = pd.read_pickle('data/df_train.csv')\n",
    "df_test = pd.read_pickle('data/df_test.csv')\n",
    "\n",
    "X_train = pd.read_pickle('data/X_adasyn')\n",
    "y_train = pd.read_pickle('data/y_adasyn')\n",
    "X_test = pd.read_pickle('data/X_test_processed')"
   ]
  },
  {
   "cell_type": "code",
   "execution_count": 4,
   "metadata": {},
   "outputs": [],
   "source": [
    "# Save as csv file\n",
    "df_train.to_csv('data/df_train.csv')\n",
    "df_test.to_csv('data/df_test.csv')\n",
    "X_train.to_csv('data/X_adasyn')\n",
    "y_train.to_csv('data/y_adasyn')\n",
    "X_test.to_csv('data/X_test_processed')"
   ]
  },
  {
   "cell_type": "code",
   "execution_count": 6,
   "metadata": {},
   "outputs": [],
   "source": [
    "# Test read csv file\n",
    "df_test = pd.read_csv('data/df_test.csv')\n",
    "X_train = pd.read_csv('data/X_adasyn')\n",
    "y_train = pd.read_csv('data/y_adasyn')\n",
    "X_test = pd.read_csv('data/X_test_processed')"
   ]
  },
  {
   "cell_type": "code",
   "execution_count": 7,
   "metadata": {},
   "outputs": [],
   "source": [
    "df = pd.read_csv('data/candidate_proba.csv')"
   ]
  },
  {
   "cell_type": "code",
   "execution_count": null,
   "metadata": {},
   "outputs": [],
   "source": []
  }
 ],
 "metadata": {
  "kernelspec": {
   "display_name": "Python 3",
   "language": "python",
   "name": "python3"
  },
  "language_info": {
   "codemirror_mode": {
    "name": "ipython",
    "version": 3
   },
   "file_extension": ".py",
   "mimetype": "text/x-python",
   "name": "python",
   "nbconvert_exporter": "python",
   "pygments_lexer": "ipython3",
   "version": "3.8.5"
  }
 },
 "nbformat": 4,
 "nbformat_minor": 4
}
